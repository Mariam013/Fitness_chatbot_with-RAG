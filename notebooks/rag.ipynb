{
 "cells": [
  {
   "cell_type": "code",
   "execution_count": 6,
   "id": "bf6bb4c3",
   "metadata": {},
   "outputs": [],
   "source": [
    "import pandas as pd\n",
    "import minsearch"
   ]
  },
  {
   "cell_type": "code",
   "execution_count": 5,
   "id": "885b219a",
   "metadata": {},
   "outputs": [
    {
     "data": {
      "text/html": [
       "<div>\n",
       "<style scoped>\n",
       "    .dataframe tbody tr th:only-of-type {\n",
       "        vertical-align: middle;\n",
       "    }\n",
       "\n",
       "    .dataframe tbody tr th {\n",
       "        vertical-align: top;\n",
       "    }\n",
       "\n",
       "    .dataframe thead th {\n",
       "        text-align: right;\n",
       "    }\n",
       "</style>\n",
       "<table border=\"1\" class=\"dataframe\">\n",
       "  <thead>\n",
       "    <tr style=\"text-align: right;\">\n",
       "      <th></th>\n",
       "      <th>id</th>\n",
       "      <th>exercise_name</th>\n",
       "      <th>type_of_activity</th>\n",
       "      <th>type_of_equipment</th>\n",
       "      <th>body_part</th>\n",
       "      <th>type</th>\n",
       "      <th>muscle_groups_activated</th>\n",
       "      <th>instructions</th>\n",
       "    </tr>\n",
       "  </thead>\n",
       "  <tbody>\n",
       "    <tr>\n",
       "      <th>0</th>\n",
       "      <td>0</td>\n",
       "      <td>Push-Ups</td>\n",
       "      <td>Strength</td>\n",
       "      <td>Bodyweight</td>\n",
       "      <td>Upper Body</td>\n",
       "      <td>Push</td>\n",
       "      <td>Pectorals, Triceps, Deltoids</td>\n",
       "      <td>Start in a high plank position with your hands...</td>\n",
       "    </tr>\n",
       "    <tr>\n",
       "      <th>1</th>\n",
       "      <td>1</td>\n",
       "      <td>Squats</td>\n",
       "      <td>Strength</td>\n",
       "      <td>Bodyweight</td>\n",
       "      <td>Lower Body</td>\n",
       "      <td>Push</td>\n",
       "      <td>Quadriceps, Glutes, Hamstrings</td>\n",
       "      <td>Stand with feet shoulder-width apart. Lower yo...</td>\n",
       "    </tr>\n",
       "    <tr>\n",
       "      <th>2</th>\n",
       "      <td>2</td>\n",
       "      <td>Plank</td>\n",
       "      <td>Strength/Mobility</td>\n",
       "      <td>Bodyweight</td>\n",
       "      <td>Core</td>\n",
       "      <td>Hold</td>\n",
       "      <td>Rectus Abdominis, Transverse Abdominis</td>\n",
       "      <td>Start in a forearm plank position with your el...</td>\n",
       "    </tr>\n",
       "    <tr>\n",
       "      <th>3</th>\n",
       "      <td>3</td>\n",
       "      <td>Deadlift</td>\n",
       "      <td>Strength</td>\n",
       "      <td>Barbell</td>\n",
       "      <td>Lower Body</td>\n",
       "      <td>Pull</td>\n",
       "      <td>Glutes, Hamstrings, Lower Back</td>\n",
       "      <td>Stand with feet hip-width apart, barbell in fr...</td>\n",
       "    </tr>\n",
       "    <tr>\n",
       "      <th>4</th>\n",
       "      <td>4</td>\n",
       "      <td>Bicep Curls</td>\n",
       "      <td>Strength</td>\n",
       "      <td>Dumbbells</td>\n",
       "      <td>Upper Body</td>\n",
       "      <td>Pull</td>\n",
       "      <td>Biceps, Forearms</td>\n",
       "      <td>Stand with a dumbbell in each hand, arms fully...</td>\n",
       "    </tr>\n",
       "  </tbody>\n",
       "</table>\n",
       "</div>"
      ],
      "text/plain": [
       "   id exercise_name   type_of_activity type_of_equipment   body_part  type  \\\n",
       "0   0      Push-Ups           Strength        Bodyweight  Upper Body  Push   \n",
       "1   1        Squats           Strength        Bodyweight  Lower Body  Push   \n",
       "2   2         Plank  Strength/Mobility        Bodyweight        Core  Hold   \n",
       "3   3      Deadlift           Strength           Barbell  Lower Body  Pull   \n",
       "4   4   Bicep Curls           Strength         Dumbbells  Upper Body  Pull   \n",
       "\n",
       "                  muscle_groups_activated  \\\n",
       "0            Pectorals, Triceps, Deltoids   \n",
       "1          Quadriceps, Glutes, Hamstrings   \n",
       "2  Rectus Abdominis, Transverse Abdominis   \n",
       "3          Glutes, Hamstrings, Lower Back   \n",
       "4                        Biceps, Forearms   \n",
       "\n",
       "                                        instructions  \n",
       "0  Start in a high plank position with your hands...  \n",
       "1  Stand with feet shoulder-width apart. Lower yo...  \n",
       "2  Start in a forearm plank position with your el...  \n",
       "3  Stand with feet hip-width apart, barbell in fr...  \n",
       "4  Stand with a dumbbell in each hand, arms fully...  "
      ]
     },
     "execution_count": 5,
     "metadata": {},
     "output_type": "execute_result"
    }
   ],
   "source": [
    "df = pd.read_csv('../data/data.csv')\n",
    "df.head()"
   ]
  },
  {
   "cell_type": "code",
   "execution_count": 10,
   "id": "af497ca8",
   "metadata": {},
   "outputs": [],
   "source": [
    "documents = df.to_dict(orient='records')"
   ]
  },
  {
   "cell_type": "code",
   "execution_count": null,
   "id": "abce2890",
   "metadata": {},
   "outputs": [],
   "source": [
    "docum"
   ]
  },
  {
   "cell_type": "code",
   "execution_count": 7,
   "id": "56859d37",
   "metadata": {},
   "outputs": [
    {
     "data": {
      "text/plain": [
       "Index(['id', 'exercise_name', 'type_of_activity', 'type_of_equipment',\n",
       "       'body_part', 'type', 'muscle_groups_activated', 'instructions'],\n",
       "      dtype='object')"
      ]
     },
     "execution_count": 7,
     "metadata": {},
     "output_type": "execute_result"
    }
   ],
   "source": [
    "df.columns"
   ]
  },
  {
   "cell_type": "code",
   "execution_count": 8,
   "id": "ab0bb5b1",
   "metadata": {},
   "outputs": [],
   "source": [
    "index = minsearch.Index(\n",
    "    text_fields=['exercise_name', 'type_of_activity', 'type_of_equipment',\n",
    "       'body_part', 'type', 'muscle_groups_activated', 'instructions'],\n",
    "       keyword_fields=[]\n",
    ")"
   ]
  },
  {
   "cell_type": "code",
   "execution_count": 11,
   "id": "f2c14dc4",
   "metadata": {},
   "outputs": [
    {
     "data": {
      "text/plain": [
       "<minsearch.minsearch.Index at 0x226fb795ac0>"
      ]
     },
     "execution_count": 11,
     "metadata": {},
     "output_type": "execute_result"
    }
   ],
   "source": [
    "index.fit(documents)"
   ]
  },
  {
   "cell_type": "code",
   "execution_count": 13,
   "id": "99cce539",
   "metadata": {},
   "outputs": [],
   "source": [
    "query = \"What exercises can I do for my biceps at home?\""
   ]
  },
  {
   "cell_type": "code",
   "execution_count": 14,
   "id": "c7f6274c",
   "metadata": {},
   "outputs": [
    {
     "data": {
      "text/plain": [
       "[{'id': 152,\n",
       "  'exercise_name': 'Machine Preacher Curl',\n",
       "  'type_of_activity': 'Strength',\n",
       "  'type_of_equipment': 'Machine',\n",
       "  'body_part': 'Upper Body',\n",
       "  'type': 'Pull',\n",
       "  'muscle_groups_activated': 'Biceps',\n",
       "  'instructions': 'Sit at a preacher curl machine with your arms on the pad. Curl the handle towards your shoulders, then lower it back down.'},\n",
       " {'id': 57,\n",
       "  'exercise_name': 'Single Arm Dumbbell Row',\n",
       "  'type_of_activity': 'Strength',\n",
       "  'type_of_equipment': 'Dumbbell',\n",
       "  'body_part': 'Upper Body',\n",
       "  'type': 'Pull',\n",
       "  'muscle_groups_activated': 'Latissimus Dorsi, Biceps',\n",
       "  'instructions': 'Place one knee and hand on a bench for support, row the dumbbell towards your torso with the other hand.'},\n",
       " {'id': 150,\n",
       "  'exercise_name': 'One-Arm Dumbbell Row',\n",
       "  'type_of_activity': 'Strength',\n",
       "  'type_of_equipment': 'Dumbbell',\n",
       "  'body_part': 'Upper Body',\n",
       "  'type': 'Pull',\n",
       "  'muscle_groups_activated': 'Latissimus Dorsi, Biceps',\n",
       "  'instructions': 'Place one knee and hand on a bench for support. Row the dumbbell towards your torso with the other hand.'},\n",
       " {'id': 159,\n",
       "  'exercise_name': 'Smith Machine Row',\n",
       "  'type_of_activity': 'Strength',\n",
       "  'type_of_equipment': 'Smith Machine',\n",
       "  'body_part': 'Upper Body',\n",
       "  'type': 'Pull',\n",
       "  'muscle_groups_activated': 'Latissimus Dorsi, Biceps',\n",
       "  'instructions': 'Stand with feet shoulder-width apart, bend forward at the hips, and row the bar towards your torso.'},\n",
       " {'id': 182,\n",
       "  'exercise_name': 'Dumbbell Bent-Over Row',\n",
       "  'type_of_activity': 'Strength',\n",
       "  'type_of_equipment': 'Dumbbells',\n",
       "  'body_part': 'Upper Body',\n",
       "  'type': 'Pull',\n",
       "  'muscle_groups_activated': 'Latissimus Dorsi, Biceps',\n",
       "  'instructions': 'Stand with feet shoulder-width apart, bend forward at the hips, and row the dumbbells towards your torso.'}]"
      ]
     },
     "execution_count": 14,
     "metadata": {},
     "output_type": "execute_result"
    }
   ],
   "source": [
    "index.search(query, num_results=5)"
   ]
  },
  {
   "cell_type": "code",
   "execution_count": 16,
   "id": "8960666d",
   "metadata": {},
   "outputs": [],
   "source": [
    "import openai\n",
    "import os\n",
    "from dotenv import load_dotenv\n",
    "load_dotenv()\n",
    "\n",
    "api_key = os.getenv(\"OPENAI_API_KEY\")\n",
    "\n",
    "client = openai.Client(api_key=api_key)\n"
   ]
  },
  {
   "cell_type": "code",
   "execution_count": 26,
   "id": "75ec9221",
   "metadata": {},
   "outputs": [],
   "source": [
    "def search(query):\n",
    "    boost = {}\n",
    "\n",
    "    results = index.search(\n",
    "        query = query,\n",
    "        filter_dict = {},\n",
    "        boost_dict = boost,\n",
    "        num_results = 5\n",
    "    ) \n",
    "    return results"
   ]
  },
  {
   "cell_type": "code",
   "execution_count": 27,
   "id": "6c4a00b2",
   "metadata": {},
   "outputs": [],
   "source": [
    "prompt_template = \"\"\"\n",
    "You're a fitness insrtuctor. Answer the QUESTION based on the CONTEXT from our exercises database.\n",
    "Use only the facts from the CONTEXT when answering the QUESTION.\n",
    "\n",
    "QUESTION: {question}\n",
    "\n",
    "CONTEXT:\n",
    "{context}\n",
    "\"\"\".strip()\n",
    "\n",
    "entry_template = \"\"\"\n",
    "exercise_name: {exercise_name}\n",
    "type_of_activity: {type_of_activity}\n",
    "type_of_equipment: {type_of_equipment}\n",
    "body_part: {body_part}\n",
    "type: {type}\n",
    "muscle_groups_activated: {muscle_groups_activated}\n",
    "instructions: {instructions}\n",
    "\"\"\".strip()\n",
    "\n",
    "def build_prompt(query, search_results):\n",
    "    context = \"\"\n",
    "    \n",
    "    for doc in search_results:\n",
    "        context = context + entry_template.format(**doc) + \"\\n\\n\"\n",
    "\n",
    "    prompt = prompt_template.format(question=query, context=context).strip()\n",
    "    return prompt"
   ]
  },
  {
   "cell_type": "code",
   "execution_count": 28,
   "id": "84612a87",
   "metadata": {},
   "outputs": [],
   "source": [
    "def llm(prompt):\n",
    "    response=client.chat.completions.create(\n",
    "    model=\"gpt-5-nano\",\n",
    "    messages=[{\"role\": \"user\", \"content\": prompt}],)\n",
    "\n",
    "    return response.choices[0].message.content"
   ]
  },
  {
   "cell_type": "code",
   "execution_count": 29,
   "id": "820fc95c",
   "metadata": {},
   "outputs": [],
   "source": [
    "def rag(query):\n",
    "    search_results = search(query)\n",
    "    prompt=build_prompt(query, search_results)\n",
    "    answer=llm(prompt)\n",
    "    return answer"
   ]
  },
  {
   "cell_type": "code",
   "execution_count": 30,
   "id": "c590f615",
   "metadata": {},
   "outputs": [
    {
     "name": "stdout",
     "output_type": "stream",
     "text": [
      "Here are the biceps-focused exercises from the context that you can do at home with dumbbells:\n",
      "\n",
      "- Single Arm Dumbbell Row\n",
      "  - Equipment: dumbbell\n",
      "  - How it activates: Biceps (along with latissimus dorsi)\n",
      "\n",
      "- One-Arm Dumbbell Row\n",
      "  - Equipment: dumbbell\n",
      "  - How it activates: Biceps (along with latissimus dorsi)\n",
      "\n",
      "- Dumbbell Bent-Over Row\n",
      "  - Equipment: dumbbells\n",
      "  - How it activates: Biceps (along with latissimus dorsi)\n",
      "\n",
      "Note: The other biceps-related exercises in the context (Machine Preacher Curl and Smith Machine Row) require machines, which may not be available at home.\n"
     ]
    }
   ],
   "source": [
    "answer = rag(query)\n",
    "print(answer)"
   ]
  },
  {
   "cell_type": "code",
   "execution_count": null,
   "id": "5e8432a7",
   "metadata": {},
   "outputs": [],
   "source": []
  }
 ],
 "metadata": {
  "kernelspec": {
   "display_name": "base",
   "language": "python",
   "name": "python3"
  },
  "language_info": {
   "codemirror_mode": {
    "name": "ipython",
    "version": 3
   },
   "file_extension": ".py",
   "mimetype": "text/x-python",
   "name": "python",
   "nbconvert_exporter": "python",
   "pygments_lexer": "ipython3",
   "version": "3.12.3"
  }
 },
 "nbformat": 4,
 "nbformat_minor": 5
}
